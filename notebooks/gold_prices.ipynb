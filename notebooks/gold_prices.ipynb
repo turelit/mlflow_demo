{
 "cells": [
  {
   "cell_type": "code",
   "execution_count": 1,
   "id": "e5572341-de95-4926-8629-41ba1456a5d2",
   "metadata": {
    "execution": {
     "iopub.execute_input": "2025-06-24T08:51:13.340916Z",
     "iopub.status.busy": "2025-06-24T08:51:13.340562Z",
     "iopub.status.idle": "2025-06-24T08:51:15.900320Z",
     "shell.execute_reply": "2025-06-24T08:51:15.899501Z",
     "shell.execute_reply.started": "2025-06-24T08:51:13.340882Z"
    }
   },
   "outputs": [],
   "source": [
    "import pandas as pd\n",
    "import numpy as np\n",
    "import matplotlib.pyplot as plt\n",
    "import seaborn as sns\n",
    "\n",
    "from sklearn.model_selection import train_test_split\n",
    "from sklearn.preprocessing import StandardScaler\n",
    "from sklearn.metrics import mean_squared_error, r2_score\n",
    "\n",
    "from sklearn import linear_model, ensemble, neighbors\n",
    "from xgboost import XGBRegressor\n",
    "\n",
    "sns.set(style=\"whitegrid\")"
   ]
  },
  {
   "cell_type": "code",
   "execution_count": null,
   "id": "3367ae3a-b562-4053-b330-e7716bbc0822",
   "metadata": {
    "execution": {
     "iopub.execute_input": "2025-06-24T08:51:52.612768Z",
     "iopub.status.busy": "2025-06-24T08:51:52.612156Z",
     "iopub.status.idle": "2025-06-24T08:51:52.797409Z",
     "shell.execute_reply": "2025-06-24T08:51:52.796539Z",
     "shell.execute_reply.started": "2025-06-24T08:51:52.612740Z"
    }
   },
   "outputs": [],
   "source": [
    "df = pd.read_csv('../datasets/XAU_1h_data.csv', delimiter=';', encoding='utf-8')\n",
    "\n",
    "df['Date'] = pd.to_datetime(df['Date'], errors='coerce')\n",
    "print(f\"Dropped {df['Date'].isna().sum()} rows due to invalid dates.\")\n",
    "df = df.dropna(subset=['Date'])\n",
    "\n",
    "df.head(10)"
   ]
  },
  {
   "cell_type": "code",
   "execution_count": null,
   "id": "c7e23d0d-7c29-436d-9d7f-157847e54ac7",
   "metadata": {
    "execution": {
     "iopub.execute_input": "2025-06-24T08:52:45.460198Z",
     "iopub.status.busy": "2025-06-24T08:52:45.459610Z",
     "iopub.status.idle": "2025-06-24T08:52:45.522457Z",
     "shell.execute_reply": "2025-06-24T08:52:45.521925Z",
     "shell.execute_reply.started": "2025-06-24T08:52:45.460167Z"
    }
   },
   "outputs": [],
   "source": [
    "df['target'] = df['Close'].shift(-24)\n",
    "\n",
    "df = df.dropna(subset=['target'])\n",
    "\n",
    "X = df.drop(columns=['target'])\n",
    "y = df['target']\n",
    "\n",
    "print(f\"Features shape: {X.shape}, Target shape: {y.shape}\")\n",
    "\n",
    "X_train, X_test, y_train, y_test = train_test_split(X, y, test_size=0.2, random_state=42)\n",
    "\n",
    "scaler = StandardScaler()\n",
    "X_train_scaled = scaler.fit_transform(X_train.select_dtypes(include=[np.number]))\n",
    "X_test_scaled = scaler.transform(X_test.select_dtypes(include=[np.number]))\n",
    "\n",
    "print(\"Data scaled and ready for model training.\")"
   ]
  },
  {
   "cell_type": "code",
   "execution_count": null,
   "id": "a1389db7-02e4-45f2-9752-a85b06df2d26",
   "metadata": {
    "execution": {
     "iopub.execute_input": "2025-06-24T08:59:21.277662Z",
     "iopub.status.busy": "2025-06-24T08:59:21.277220Z",
     "iopub.status.idle": "2025-06-24T09:01:10.205558Z",
     "shell.execute_reply": "2025-06-24T09:01:10.204821Z",
     "shell.execute_reply.started": "2025-06-24T08:59:21.277629Z"
    }
   },
   "outputs": [],
   "source": [
    "models = {\n",
    "    'Linear Regression': linear_model.LinearRegression(),\n",
    "    'Random Forest': ensemble.RandomForestRegressor(),\n",
    "    'Gradient Boosting': ensemble.GradientBoostingRegressor(),\n",
    "    'KNN': neighbors.KNeighborsRegressor(),\n",
    "    'XGBoost': XGBRegressor(verbosity=0)\n",
    "}\n",
    "\n",
    "for name, model in models.items():\n",
    "    model.fit(X_train_scaled, y_train)\n",
    "    preds = model.predict(X_test_scaled)\n",
    "    rmse = mean_squared_error(y_test, preds) \n",
    "    r2 = r2_score(y_test, preds)\n",
    "\n",
    "    print(f\"{name}: RMSE={rmse:.4f}, R2={r2:.4f}\")\n",
    "       \n",
    "    # Plotting predictions vs actual\n",
    "    plt.figure(figsize=(12, 6))\n",
    "    plt.plot(y_test.values[:100], label='Actual', marker='o', linewidth=2)\n",
    "    plt.plot(preds[:100], label='Predicted', marker='x', linestyle='--')\n",
    "    plt.title(f\"{name} - Predictions vs Actual (First 100)\\nRMSE={rmse:.2f}, R²={r2:.4f}\", fontsize=14)\n",
    "    plt.xlabel(\"Sample Index\")\n",
    "    plt.ylabel(\"Gold Price\")\n",
    "    plt.legend()\n",
    "    plt.tight_layout()\n",
    "    plt.show()"
   ]
  },
  {
   "cell_type": "code",
   "execution_count": null,
   "id": "723412ca-5ab7-47ce-a01d-0cdfdc2a154f",
   "metadata": {
    "execution": {
     "iopub.execute_input": "2025-06-24T09:11:29.811141Z",
     "iopub.status.busy": "2025-06-24T09:11:29.810396Z",
     "iopub.status.idle": "2025-06-24T09:11:29.814533Z",
     "shell.execute_reply": "2025-06-24T09:11:29.813846Z",
     "shell.execute_reply.started": "2025-06-24T09:11:29.811110Z"
    }
   },
   "outputs": [],
   "source": [
    "import mlflow\n",
    "from mlflow.models import infer_signature\n",
    "\n",
    "mlflow.set_tracking_uri(\"arn:aws:sagemaker:eu-north-1:<account_number>:mlflow-tracking-server/mlflow-demo-tracking-server\")"
   ]
  },
  {
   "cell_type": "code",
   "execution_count": null,
   "id": "60189267-dc72-42e1-aa41-30f08f19e929",
   "metadata": {
    "execution": {
     "iopub.execute_input": "2025-06-24T09:13:31.042869Z",
     "iopub.status.busy": "2025-06-24T09:13:31.042589Z",
     "iopub.status.idle": "2025-06-24T09:13:48.566218Z",
     "shell.execute_reply": "2025-06-24T09:13:48.565463Z",
     "shell.execute_reply.started": "2025-06-24T09:13:31.042848Z"
    }
   },
   "outputs": [],
   "source": [
    "mlflow.set_experiment(\"gold_prices_experiment\")\n",
    "\n",
    "model = linear_model.LinearRegression()\n",
    "model.fit(X_train_scaled, y_train)\n",
    "preds = model.predict(X_test_scaled)\n",
    "rmse = mean_squared_error(y_test, preds) \n",
    "r2 = r2_score(y_test, preds)\n",
    "\n",
    "params = {\n",
    "    \"model\": \"LinearRegression\"\n",
    "}\n",
    "\n",
    "# Start an MLflow run\n",
    "with mlflow.start_run():\n",
    "    # Log the hyperparameters\n",
    "    mlflow.log_params(params)\n",
    "\n",
    "    # Log the loss metric\n",
    "    mlflow.log_metric(\"r2 score\", r2)\n",
    "\n",
    "    # Infer the model signature\n",
    "    signature = infer_signature(X_test_scaled, preds)\n",
    "\n",
    "    # Log the model, which inherits the parameters and metric\n",
    "    model_info = mlflow.sklearn.log_model(\n",
    "        sk_model=linear_model.LinearRegression(),\n",
    "        artifact_path=\"gold_price_linear_regression_model\",\n",
    "        signature=signature,\n",
    "        input_example=X_train_scaled,\n",
    "        registered_model_name=\"gold-price-model-turelit\",\n",
    "    )"
   ]
  },
  {
   "cell_type": "code",
   "execution_count": null,
   "id": "48003eae-a9d6-4e6a-98c8-1aa68957f739",
   "metadata": {},
   "outputs": [],
   "source": []
  }
 ],
 "metadata": {
  "kernelspec": {
   "display_name": "Python 3 (ipykernel)",
   "language": "python",
   "name": "python3"
  },
  "language_info": {
   "codemirror_mode": {
    "name": "ipython",
    "version": 3
   },
   "file_extension": ".py",
   "mimetype": "text/x-python",
   "name": "python",
   "nbconvert_exporter": "python",
   "pygments_lexer": "ipython3",
   "version": "3.12.9"
  }
 },
 "nbformat": 4,
 "nbformat_minor": 5
}
