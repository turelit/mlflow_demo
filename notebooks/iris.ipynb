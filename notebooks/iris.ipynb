{
 "cells": [
  {
   "cell_type": "code",
   "execution_count": null,
   "id": "4088882c",
   "metadata": {
    "execution": {
     "iopub.execute_input": "2025-06-23T10:20:59.075062Z",
     "iopub.status.busy": "2025-06-23T10:20:59.074695Z",
     "iopub.status.idle": "2025-06-23T10:21:01.822554Z",
     "shell.execute_reply": "2025-06-23T10:21:01.821788Z",
     "shell.execute_reply.started": "2025-06-23T10:20:59.075029Z"
    },
    "vscode": {
     "languageId": "plaintext"
    }
   },
   "outputs": [],
   "source": [
    "import mlflow\n",
    "\n",
    "mlflow.set_tracking_uri(\"arn:aws:sagemaker:eu-north-1:<account_number>:mlflow-tracking-server/mlflow-demo-tracking-server\")"
   ]
  },
  {
   "cell_type": "code",
   "execution_count": null,
   "id": "b192a051",
   "metadata": {
    "execution": {
     "iopub.execute_input": "2025-06-23T10:21:12.163109Z",
     "iopub.status.busy": "2025-06-23T10:21:12.162597Z",
     "iopub.status.idle": "2025-06-23T10:21:12.756696Z",
     "shell.execute_reply": "2025-06-23T10:21:12.755791Z",
     "shell.execute_reply.started": "2025-06-23T10:21:12.163082Z"
    },
    "vscode": {
     "languageId": "plaintext"
    }
   },
   "outputs": [],
   "source": [
    "import mlflow\n",
    "from mlflow.models import infer_signature\n",
    "\n",
    "import pandas as pd\n",
    "from sklearn import datasets\n",
    "from sklearn.model_selection import train_test_split\n",
    "from sklearn.linear_model import LogisticRegression\n",
    "from sklearn.metrics import accuracy_score, precision_score, recall_score, f1_score\n",
    "\n",
    "\n",
    "# Load the Iris dataset\n",
    "X, y = datasets.load_iris(return_X_y=True)\n",
    "\n",
    "# Split the data into training and test sets\n",
    "X_train, X_test, y_train, y_test = train_test_split(\n",
    "    X, y, test_size=0.3, random_state=27\n",
    ")\n",
    "\n",
    "# Define the model hyperparameters\n",
    "params = {\n",
    "    \"solver\": \"newton-cholesky\",\n",
    "    \"max_iter\": 1000,\n",
    "    \"multi_class\": \"auto\",\n",
    "    \"random_state\": 8888,\n",
    "}\n",
    "\n",
    "# Train the model\n",
    "lr = LogisticRegression(**params)\n",
    "lr.fit(X_train, y_train)\n",
    "\n",
    "# Predict on the test set\n",
    "y_pred = lr.predict(X_test)\n",
    "\n",
    "# Calculate metrics\n",
    "accuracy = accuracy_score(y_test, y_pred)"
   ]
  },
  {
   "cell_type": "code",
   "execution_count": null,
   "id": "cdd462db",
   "metadata": {
    "execution": {
     "iopub.execute_input": "2025-06-23T10:32:20.532197Z",
     "iopub.status.busy": "2025-06-23T10:32:20.531557Z",
     "iopub.status.idle": "2025-06-23T10:32:25.206239Z",
     "shell.execute_reply": "2025-06-23T10:32:25.205583Z",
     "shell.execute_reply.started": "2025-06-23T10:32:20.532169Z"
    },
    "vscode": {
     "languageId": "plaintext"
    }
   },
   "outputs": [],
   "source": [
    "mlflow.set_experiment(\"iris_experiment\")\n",
    "\n",
    "# Start an MLflow run\n",
    "with mlflow.start_run():\n",
    "    # Log the hyperparameters\n",
    "    mlflow.log_params(params)\n",
    "\n",
    "    # Log the loss metric\n",
    "    mlflow.log_metric(\"accuracy\", accuracy)\n",
    "\n",
    "    # Infer the model signature\n",
    "    signature = infer_signature(X_train, lr.predict(X_train))\n",
    "\n",
    "    # Log the model, which inherits the parameters and metric\n",
    "    model_info = mlflow.sklearn.log_model(\n",
    "        sk_model=lr,\n",
    "        artifact_path=\"iris_logistic_regression_model\",\n",
    "        signature=signature,\n",
    "        input_example=X_train,\n",
    "        registered_model_name=\"iris-model\",\n",
    "    )"
   ]
  },
  {
   "cell_type": "code",
   "execution_count": null,
   "id": "15997cb3-02aa-444c-a3cf-e519c33408f0",
   "metadata": {
    "execution": {
     "iopub.execute_input": "2025-06-23T12:29:03.099200Z",
     "iopub.status.busy": "2025-06-23T12:29:03.098908Z",
     "iopub.status.idle": "2025-06-23T12:29:03.108964Z",
     "shell.execute_reply": "2025-06-23T12:29:03.108223Z",
     "shell.execute_reply.started": "2025-06-23T12:29:03.099180Z"
    }
   },
   "outputs": [],
   "source": [
    "iris = datasets.load_iris()\n",
    "print(iris['data'])\n",
    "print(iris['target'])\n",
    "print(iris['feature_names'])\n",
    "print(iris['target_names'])\n",
    "print(iris['DESCR'])"
   ]
  },
  {
   "cell_type": "code",
   "execution_count": null,
   "id": "3491aa64-abcd-4549-be41-eddff3bba698",
   "metadata": {},
   "outputs": [],
   "source": []
  }
 ],
 "metadata": {
  "kernelspec": {
   "display_name": "Python 3 (ipykernel)",
   "language": "python",
   "name": "python3"
  },
  "language_info": {
   "codemirror_mode": {
    "name": "ipython",
    "version": 3
   },
   "file_extension": ".py",
   "mimetype": "text/x-python",
   "name": "python",
   "nbconvert_exporter": "python",
   "pygments_lexer": "ipython3",
   "version": "3.12.9"
  }
 },
 "nbformat": 4,
 "nbformat_minor": 5
}
