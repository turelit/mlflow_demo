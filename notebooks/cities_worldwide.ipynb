{
 "cells": [
  {
   "cell_type": "code",
   "execution_count": null,
   "id": "03517beb",
   "metadata": {
    "vscode": {
     "languageId": "plaintext"
    }
   },
   "outputs": [],
   "source": [
    "import plotly.express as px\n",
    "import json\n",
    "import pandas as pd\n",
    "import numpy as np\n",
    "from sklearn.preprocessing import MinMaxScaler\n",
    "from sklearn.decomposition import PCA\n",
    "import plotly.graph_objects as go\n",
    "from itertools import chain"
   ]
  },
  {
   "cell_type": "code",
   "execution_count": null,
   "id": "720bfaab",
   "metadata": {
    "vscode": {
     "languageId": "plaintext"
    }
   },
   "outputs": [],
   "source": [
    "import plotly.io as pio\n",
    "\n",
    "pio.templates[\"custom_dark_green\"] = go.layout.Template(\n",
    "    layout=dict(\n",
    "        paper_bgcolor='black',\n",
    "        plot_bgcolor='black',\n",
    "        font=dict(color='lightgreen'),\n",
    "        xaxis=dict(color='lightgreen', gridcolor='gray'),\n",
    "        yaxis=dict(color='lightgreen', gridcolor='gray')\n",
    "    )\n",
    ")\n",
    "\n",
    "pio.templates.default = \"custom_dark_green\""
   ]
  },
  {
   "cell_type": "code",
   "execution_count": null,
   "id": "39ed0686",
   "metadata": {
    "vscode": {
     "languageId": "plaintext"
    }
   },
   "outputs": [],
   "source": [
    "df = pd.read_csv('Worldwide_Travel_Cities_Dataset.csv')"
   ]
  },
  {
   "cell_type": "code",
   "execution_count": null,
   "id": "b3f74257",
   "metadata": {
    "vscode": {
     "languageId": "plaintext"
    }
   },
   "outputs": [],
   "source": [
    "df.head()"
   ]
  },
  {
   "cell_type": "code",
   "execution_count": null,
   "id": "7ea69130",
   "metadata": {
    "vscode": {
     "languageId": "plaintext"
    }
   },
   "outputs": [],
   "source": [
    "theme_cols = ['culture','adventure','nature','beaches','nightlife','cuisine','wellness','urban','seclusion']\n",
    "budget_map = {'Budget': 3, 'Mid-range': 2, 'Luxury': 1}\n",
    "\n",
    "def climate_comfort(json_str):\n",
    "    try:\n",
    "        temps = json.loads(json_str)\n",
    "        avg_temps = [temps[str(m)]['avg'] for m in range(1, 13)]\n",
    "        return -np.mean([abs(t - 23) for t in avg_temps])  # closer to 23°C is better\n",
    "    except:\n",
    "        return np.nan"
   ]
  },
  {
   "cell_type": "code",
   "execution_count": null,
   "id": "283a3939",
   "metadata": {
    "vscode": {
     "languageId": "plaintext"
    }
   },
   "outputs": [],
   "source": [
    "df['theme_score'] = df[theme_cols].mean(axis=1)\n",
    "df['budget_score'] = df['budget_level'].map(budget_map)\n",
    "df['duration_score'] = df['ideal_durations'].apply(len)\n",
    "df['climate_score'] = df['avg_temp_monthly'].apply(climate_comfort)"
   ]
  },
  {
   "cell_type": "code",
   "execution_count": null,
   "id": "dfbbcccc",
   "metadata": {
    "vscode": {
     "languageId": "plaintext"
    }
   },
   "outputs": [],
   "source": [
    "score_cols = ['theme_score', 'budget_score', 'duration_score', 'climate_score']\n",
    "df_clean = df.dropna(subset=score_cols).copy()"
   ]
  },
  {
   "cell_type": "code",
   "execution_count": null,
   "id": "46a94e45",
   "metadata": {
    "vscode": {
     "languageId": "plaintext"
    }
   },
   "outputs": [],
   "source": [
    "scaler = MinMaxScaler()\n",
    "X_scaled = scaler.fit_transform(df_clean[score_cols])"
   ]
  },
  {
   "cell_type": "code",
   "execution_count": null,
   "id": "b93e6c7c",
   "metadata": {
    "vscode": {
     "languageId": "plaintext"
    }
   },
   "outputs": [],
   "source": [
    "print(X_scaled)"
   ]
  },
  {
   "cell_type": "code",
   "execution_count": null,
   "id": "27826ff5",
   "metadata": {
    "vscode": {
     "languageId": "plaintext"
    }
   },
   "outputs": [],
   "source": [
    "import plotly.graph_objects as go\n",
    "from sklearn.decomposition import PCA\n",
    "from sklearn.preprocessing import StandardScaler\n",
    "\n",
    "# --- PCA Setup (Assuming you already have df and score_cols) ---\n",
    "scaler = StandardScaler()\n",
    "X_scaled = scaler.fit_transform(df[score_cols])\n",
    "\n",
    "pca = PCA(n_components=1)\n",
    "pca.fit(X_scaled)\n",
    "\n",
    "weights = pca.components_[0]\n",
    "feature_weights = dict(zip(score_cols, weights))\n",
    "\n",
    "# --- Plotly Table ---\n",
    "feature_names = list(feature_weights.keys())\n",
    "weight_values = [round(w, 4) for w in feature_weights.values()]\n",
    "\n",
    "fig = go.Figure(data=[go.Table(\n",
    "    header=dict(values=[\"🧮 Feature\", \"📊 PCA Weight\"],\n",
    "                fill_color='darkslategray',\n",
    "                font=dict(color='white', size=13),\n",
    "                align='left'),\n",
    "    cells=dict(values=[feature_names, weight_values],\n",
    "               fill_color='#1f77b4',\n",
    "               align='left',\n",
    "               font=dict(size=12))\n",
    ")])\n",
    "\n",
    "fig.update_layout(title='📊 PCA-Derived Feature Weights', height=400)\n",
    "fig.show(renderer='iframe')"
   ]
  },
  {
   "cell_type": "code",
   "execution_count": null,
   "id": "690f01c3",
   "metadata": {
    "vscode": {
     "languageId": "plaintext"
    }
   },
   "outputs": [],
   "source": [
    "df_clean['composite_score'] = sum(df_clean[feature] * weight for feature, weight in feature_weights.items())"
   ]
  },
  {
   "cell_type": "code",
   "execution_count": null,
   "id": "ffa150b7",
   "metadata": {
    "vscode": {
     "languageId": "plaintext"
    }
   },
   "outputs": [],
   "source": [
    "top_cities_df = df_clean.sort_values(by='composite_score', ascending=False).head(8)\n",
    "top_cities_df_display = top_cities_df[['city', 'country', 'region', 'budget_level']]\n",
    "top_cities_df_display.reset_index(drop=True, inplace=True)\n",
    "\n",
    "fig = go.Figure(\n",
    "    data=[\n",
    "        go.Table(\n",
    "            header=dict(\n",
    "                values=[\"🏙️ City\", \"🌍 Country\", \"📌 Region\", \"💸 Budget Level\"],\n",
    "                fill_color=\"red\",\n",
    "                align=\"left\",\n",
    "                font=dict(color=\"white\", size=14),\n",
    "                height=35\n",
    "            ),\n",
    "            cells=dict(\n",
    "                values=[\n",
    "                    top_cities_df_display['city'],\n",
    "                    top_cities_df_display['country'],\n",
    "                    top_cities_df_display['region'],\n",
    "                    top_cities_df_display['budget_level'],\n",
    "                ],\n",
    "                fill_color=\"#1f77b4\",\n",
    "                align=\"left\",\n",
    "                font=dict(size=13),\n",
    "                height=30\n",
    "            )\n",
    "        )\n",
    "    ]\n",
    ")\n",
    "\n",
    "fig.update_layout(title=\"🏆 Top 8 Cities Based on PCA Composite Score\", title_font_size=20)\n",
    "fig.show(renderer='iframe')"
   ]
  }
 ],
 "metadata": {
  "kernelspec": {
   "display_name": "Python 3 (ipykernel)",
   "language": "python",
   "name": "python3"
  },
  "language_info": {
   "codemirror_mode": {
    "name": "ipython",
    "version": 3
   },
   "file_extension": ".py",
   "mimetype": "text/x-python",
   "name": "python",
   "nbconvert_exporter": "python",
   "pygments_lexer": "ipython3",
   "version": "3.12.9"
  }
 },
 "nbformat": 4,
 "nbformat_minor": 5
}
