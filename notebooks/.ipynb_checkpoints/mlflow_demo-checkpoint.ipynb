{
 "cells": [
  {
   "cell_type": "code",
   "execution_count": 1,
   "id": "03517beb",
   "metadata": {
    "execution": {
     "iopub.execute_input": "2025-06-23T09:08:17.914602Z",
     "iopub.status.busy": "2025-06-23T09:08:17.913913Z",
     "iopub.status.idle": "2025-06-23T09:08:18.994013Z",
     "shell.execute_reply": "2025-06-23T09:08:18.993284Z",
     "shell.execute_reply.started": "2025-06-23T09:08:17.914575Z"
    },
    "vscode": {
     "languageId": "plaintext"
    }
   },
   "outputs": [],
   "source": [
    "import plotly.express as px\n",
    "import json\n",
    "import pandas as pd\n",
    "import numpy as np\n",
    "from sklearn.preprocessing import MinMaxScaler\n",
    "from sklearn.decomposition import PCA\n",
    "import plotly.graph_objects as go\n",
    "from itertools import chain"
   ]
  },
  {
   "cell_type": "code",
   "execution_count": 2,
   "id": "720bfaab",
   "metadata": {
    "execution": {
     "iopub.execute_input": "2025-06-23T09:08:20.114061Z",
     "iopub.status.busy": "2025-06-23T09:08:20.113577Z",
     "iopub.status.idle": "2025-06-23T09:08:20.132752Z",
     "shell.execute_reply": "2025-06-23T09:08:20.131739Z",
     "shell.execute_reply.started": "2025-06-23T09:08:20.114025Z"
    },
    "vscode": {
     "languageId": "plaintext"
    }
   },
   "outputs": [],
   "source": [
    "import plotly.io as pio\n",
    "\n",
    "pio.templates[\"custom_dark_green\"] = go.layout.Template(\n",
    "    layout=dict(\n",
    "        paper_bgcolor='black',\n",
    "        plot_bgcolor='black',\n",
    "        font=dict(color='lightgreen'),\n",
    "        xaxis=dict(color='lightgreen', gridcolor='gray'),\n",
    "        yaxis=dict(color='lightgreen', gridcolor='gray')\n",
    "    )\n",
    ")\n",
    "\n",
    "pio.templates.default = \"custom_dark_green\""
   ]
  },
  {
   "cell_type": "code",
   "execution_count": 4,
   "id": "39ed0686",
   "metadata": {
    "execution": {
     "iopub.execute_input": "2025-06-23T09:09:39.644181Z",
     "iopub.status.busy": "2025-06-23T09:09:39.643487Z",
     "iopub.status.idle": "2025-06-23T09:09:39.659125Z",
     "shell.execute_reply": "2025-06-23T09:09:39.658509Z",
     "shell.execute_reply.started": "2025-06-23T09:09:39.644151Z"
    },
    "vscode": {
     "languageId": "plaintext"
    }
   },
   "outputs": [],
   "source": [
    "df = pd.read_csv('../datasets/Worldwide_Travel_Cities_Dataset.csv')"
   ]
  },
  {
   "cell_type": "code",
   "execution_count": 5,
   "id": "b3f74257",
   "metadata": {
    "execution": {
     "iopub.execute_input": "2025-06-23T09:09:42.150529Z",
     "iopub.status.busy": "2025-06-23T09:09:42.149944Z",
     "iopub.status.idle": "2025-06-23T09:09:42.169882Z",
     "shell.execute_reply": "2025-06-23T09:09:42.169196Z",
     "shell.execute_reply.started": "2025-06-23T09:09:42.150503Z"
    },
    "vscode": {
     "languageId": "plaintext"
    }
   },
   "outputs": [
    {
     "data": {
      "text/html": [
       "<div>\n",
       "<style scoped>\n",
       "    .dataframe tbody tr th:only-of-type {\n",
       "        vertical-align: middle;\n",
       "    }\n",
       "\n",
       "    .dataframe tbody tr th {\n",
       "        vertical-align: top;\n",
       "    }\n",
       "\n",
       "    .dataframe thead th {\n",
       "        text-align: right;\n",
       "    }\n",
       "</style>\n",
       "<table border=\"1\" class=\"dataframe\">\n",
       "  <thead>\n",
       "    <tr style=\"text-align: right;\">\n",
       "      <th></th>\n",
       "      <th>id</th>\n",
       "      <th>city</th>\n",
       "      <th>country</th>\n",
       "      <th>region</th>\n",
       "      <th>short_description</th>\n",
       "      <th>latitude</th>\n",
       "      <th>longitude</th>\n",
       "      <th>avg_temp_monthly</th>\n",
       "      <th>ideal_durations</th>\n",
       "      <th>budget_level</th>\n",
       "      <th>culture</th>\n",
       "      <th>adventure</th>\n",
       "      <th>nature</th>\n",
       "      <th>beaches</th>\n",
       "      <th>nightlife</th>\n",
       "      <th>cuisine</th>\n",
       "      <th>wellness</th>\n",
       "      <th>urban</th>\n",
       "      <th>seclusion</th>\n",
       "    </tr>\n",
       "  </thead>\n",
       "  <tbody>\n",
       "    <tr>\n",
       "      <th>0</th>\n",
       "      <td>c54acf38-3029-496b-8c7a-8343ad82785c</td>\n",
       "      <td>Milan</td>\n",
       "      <td>Italy</td>\n",
       "      <td>europe</td>\n",
       "      <td>Chic streets lined with fashion boutiques, his...</td>\n",
       "      <td>45.464194</td>\n",
       "      <td>9.189635</td>\n",
       "      <td>{\"1\":{\"avg\":3.7,\"max\":7.8,\"min\":0.4},\"2\":{\"avg...</td>\n",
       "      <td>[\"Short trip\",\"One week\"]</td>\n",
       "      <td>Luxury</td>\n",
       "      <td>5</td>\n",
       "      <td>2</td>\n",
       "      <td>2</td>\n",
       "      <td>1</td>\n",
       "      <td>4</td>\n",
       "      <td>5</td>\n",
       "      <td>3</td>\n",
       "      <td>5</td>\n",
       "      <td>2</td>\n",
       "    </tr>\n",
       "    <tr>\n",
       "      <th>1</th>\n",
       "      <td>0bd12654-ed64-424e-a044-7bc574bcf078</td>\n",
       "      <td>Yasawa Islands</td>\n",
       "      <td>Fiji</td>\n",
       "      <td>oceania</td>\n",
       "      <td>Crystal-clear waters, secluded beaches, and vi...</td>\n",
       "      <td>-17.290947</td>\n",
       "      <td>177.125786</td>\n",
       "      <td>{\"1\":{\"avg\":28,\"max\":30.8,\"min\":25.8},\"2\":{\"av...</td>\n",
       "      <td>[\"Long trip\",\"One week\"]</td>\n",
       "      <td>Luxury</td>\n",
       "      <td>2</td>\n",
       "      <td>4</td>\n",
       "      <td>5</td>\n",
       "      <td>5</td>\n",
       "      <td>2</td>\n",
       "      <td>3</td>\n",
       "      <td>4</td>\n",
       "      <td>1</td>\n",
       "      <td>5</td>\n",
       "    </tr>\n",
       "    <tr>\n",
       "      <th>2</th>\n",
       "      <td>73036cda-9134-46fc-a2c6-807782d59dfb</td>\n",
       "      <td>Whistler</td>\n",
       "      <td>Canada</td>\n",
       "      <td>north_america</td>\n",
       "      <td>Snow-capped peaks and lush forests create a se...</td>\n",
       "      <td>50.117190</td>\n",
       "      <td>-122.954302</td>\n",
       "      <td>{\"1\":{\"avg\":-2.5,\"max\":0.4,\"min\":-5.5},\"2\":{\"a...</td>\n",
       "      <td>[\"Short trip\",\"Weekend\",\"One week\"]</td>\n",
       "      <td>Luxury</td>\n",
       "      <td>3</td>\n",
       "      <td>5</td>\n",
       "      <td>5</td>\n",
       "      <td>2</td>\n",
       "      <td>3</td>\n",
       "      <td>3</td>\n",
       "      <td>4</td>\n",
       "      <td>2</td>\n",
       "      <td>4</td>\n",
       "    </tr>\n",
       "    <tr>\n",
       "      <th>3</th>\n",
       "      <td>3872c9c0-6b6e-49e1-9743-f46bfe591b86</td>\n",
       "      <td>Guanajuato</td>\n",
       "      <td>Mexico</td>\n",
       "      <td>north_america</td>\n",
       "      <td>Winding cobblestone streets and colorful facad...</td>\n",
       "      <td>20.987700</td>\n",
       "      <td>-101.000000</td>\n",
       "      <td>{\"1\":{\"avg\":15.5,\"max\":22.8,\"min\":8.7},\"2\":{\"a...</td>\n",
       "      <td>[\"Weekend\",\"One week\",\"Short trip\"]</td>\n",
       "      <td>Mid-range</td>\n",
       "      <td>5</td>\n",
       "      <td>3</td>\n",
       "      <td>3</td>\n",
       "      <td>1</td>\n",
       "      <td>3</td>\n",
       "      <td>4</td>\n",
       "      <td>3</td>\n",
       "      <td>4</td>\n",
       "      <td>2</td>\n",
       "    </tr>\n",
       "    <tr>\n",
       "      <th>4</th>\n",
       "      <td>e1ebc1b6-8798-422d-847a-22016faff3fd</td>\n",
       "      <td>Surabaya</td>\n",
       "      <td>Indonesia</td>\n",
       "      <td>asia</td>\n",
       "      <td>Bustling streets filled with the aroma of loca...</td>\n",
       "      <td>-7.245972</td>\n",
       "      <td>112.737827</td>\n",
       "      <td>{\"1\":{\"avg\":28.1,\"max\":32.5,\"min\":25.5},\"2\":{\"...</td>\n",
       "      <td>[\"Short trip\",\"Weekend\"]</td>\n",
       "      <td>Budget</td>\n",
       "      <td>4</td>\n",
       "      <td>3</td>\n",
       "      <td>3</td>\n",
       "      <td>2</td>\n",
       "      <td>3</td>\n",
       "      <td>4</td>\n",
       "      <td>3</td>\n",
       "      <td>4</td>\n",
       "      <td>2</td>\n",
       "    </tr>\n",
       "  </tbody>\n",
       "</table>\n",
       "</div>"
      ],
      "text/plain": [
       "                                     id            city    country  \\\n",
       "0  c54acf38-3029-496b-8c7a-8343ad82785c           Milan      Italy   \n",
       "1  0bd12654-ed64-424e-a044-7bc574bcf078  Yasawa Islands       Fiji   \n",
       "2  73036cda-9134-46fc-a2c6-807782d59dfb        Whistler     Canada   \n",
       "3  3872c9c0-6b6e-49e1-9743-f46bfe591b86      Guanajuato     Mexico   \n",
       "4  e1ebc1b6-8798-422d-847a-22016faff3fd        Surabaya  Indonesia   \n",
       "\n",
       "          region                                  short_description  \\\n",
       "0         europe  Chic streets lined with fashion boutiques, his...   \n",
       "1        oceania  Crystal-clear waters, secluded beaches, and vi...   \n",
       "2  north_america  Snow-capped peaks and lush forests create a se...   \n",
       "3  north_america  Winding cobblestone streets and colorful facad...   \n",
       "4           asia  Bustling streets filled with the aroma of loca...   \n",
       "\n",
       "    latitude   longitude                                   avg_temp_monthly  \\\n",
       "0  45.464194    9.189635  {\"1\":{\"avg\":3.7,\"max\":7.8,\"min\":0.4},\"2\":{\"avg...   \n",
       "1 -17.290947  177.125786  {\"1\":{\"avg\":28,\"max\":30.8,\"min\":25.8},\"2\":{\"av...   \n",
       "2  50.117190 -122.954302  {\"1\":{\"avg\":-2.5,\"max\":0.4,\"min\":-5.5},\"2\":{\"a...   \n",
       "3  20.987700 -101.000000  {\"1\":{\"avg\":15.5,\"max\":22.8,\"min\":8.7},\"2\":{\"a...   \n",
       "4  -7.245972  112.737827  {\"1\":{\"avg\":28.1,\"max\":32.5,\"min\":25.5},\"2\":{\"...   \n",
       "\n",
       "                       ideal_durations budget_level  culture  adventure  \\\n",
       "0            [\"Short trip\",\"One week\"]       Luxury        5          2   \n",
       "1             [\"Long trip\",\"One week\"]       Luxury        2          4   \n",
       "2  [\"Short trip\",\"Weekend\",\"One week\"]       Luxury        3          5   \n",
       "3  [\"Weekend\",\"One week\",\"Short trip\"]    Mid-range        5          3   \n",
       "4             [\"Short trip\",\"Weekend\"]       Budget        4          3   \n",
       "\n",
       "   nature  beaches  nightlife  cuisine  wellness  urban  seclusion  \n",
       "0       2        1          4        5         3      5          2  \n",
       "1       5        5          2        3         4      1          5  \n",
       "2       5        2          3        3         4      2          4  \n",
       "3       3        1          3        4         3      4          2  \n",
       "4       3        2          3        4         3      4          2  "
      ]
     },
     "execution_count": 5,
     "metadata": {},
     "output_type": "execute_result"
    }
   ],
   "source": [
    "df.head()"
   ]
  },
  {
   "cell_type": "code",
   "execution_count": null,
   "id": "7ea69130",
   "metadata": {
    "vscode": {
     "languageId": "plaintext"
    }
   },
   "outputs": [],
   "source": [
    "theme_cols = ['culture','adventure','nature','beaches','nightlife','cuisine','wellness','urban','seclusion']\n",
    "budget_map = {'Budget': 3, 'Mid-range': 2, 'Luxury': 1}\n",
    "\n",
    "def climate_comfort(json_str):\n",
    "    try:\n",
    "        temps = json.loads(json_str)\n",
    "        avg_temps = [temps[str(m)]['avg'] for m in range(1, 13)]\n",
    "        return -np.mean([abs(t - 23) for t in avg_temps])  # closer to 23°C is better\n",
    "    except:\n",
    "        return np.nan"
   ]
  },
  {
   "cell_type": "code",
   "execution_count": null,
   "id": "283a3939",
   "metadata": {
    "vscode": {
     "languageId": "plaintext"
    }
   },
   "outputs": [],
   "source": [
    "df['theme_score'] = df[theme_cols].mean(axis=1)\n",
    "df['budget_score'] = df['budget_level'].map(budget_map)\n",
    "df['duration_score'] = df['ideal_durations'].apply(len)\n",
    "df['climate_score'] = df['avg_temp_monthly'].apply(climate_comfort)"
   ]
  },
  {
   "cell_type": "code",
   "execution_count": null,
   "id": "dfbbcccc",
   "metadata": {
    "vscode": {
     "languageId": "plaintext"
    }
   },
   "outputs": [],
   "source": [
    "score_cols = ['theme_score', 'budget_score', 'duration_score', 'climate_score']\n",
    "df_clean = df.dropna(subset=score_cols).copy()"
   ]
  },
  {
   "cell_type": "code",
   "execution_count": null,
   "id": "46a94e45",
   "metadata": {
    "vscode": {
     "languageId": "plaintext"
    }
   },
   "outputs": [],
   "source": [
    "scaler = MinMaxScaler()\n",
    "X_scaled = scaler.fit_transform(df_clean[score_cols])"
   ]
  },
  {
   "cell_type": "code",
   "execution_count": null,
   "id": "b93e6c7c",
   "metadata": {
    "vscode": {
     "languageId": "plaintext"
    }
   },
   "outputs": [],
   "source": [
    "print(X_scaled)"
   ]
  },
  {
   "cell_type": "code",
   "execution_count": null,
   "id": "27826ff5",
   "metadata": {
    "vscode": {
     "languageId": "plaintext"
    }
   },
   "outputs": [],
   "source": [
    "import plotly.graph_objects as go\n",
    "from sklearn.decomposition import PCA\n",
    "from sklearn.preprocessing import StandardScaler\n",
    "\n",
    "# --- PCA Setup (Assuming you already have df and score_cols) ---\n",
    "scaler = StandardScaler()\n",
    "X_scaled = scaler.fit_transform(df[score_cols])\n",
    "\n",
    "pca = PCA(n_components=1)\n",
    "pca.fit(X_scaled)\n",
    "\n",
    "weights = pca.components_[0]\n",
    "feature_weights = dict(zip(score_cols, weights))\n",
    "\n",
    "# --- Plotly Table ---\n",
    "feature_names = list(feature_weights.keys())\n",
    "weight_values = [round(w, 4) for w in feature_weights.values()]\n",
    "\n",
    "fig = go.Figure(data=[go.Table(\n",
    "    header=dict(values=[\"🧮 Feature\", \"📊 PCA Weight\"],\n",
    "                fill_color='darkslategray',\n",
    "                font=dict(color='white', size=13),\n",
    "                align='left'),\n",
    "    cells=dict(values=[feature_names, weight_values],\n",
    "               fill_color='#1f77b4',\n",
    "               align='left',\n",
    "               font=dict(size=12))\n",
    ")])\n",
    "\n",
    "fig.update_layout(title='📊 PCA-Derived Feature Weights', height=400)\n",
    "fig.show(renderer='iframe')"
   ]
  },
  {
   "cell_type": "code",
   "execution_count": null,
   "id": "690f01c3",
   "metadata": {
    "vscode": {
     "languageId": "plaintext"
    }
   },
   "outputs": [],
   "source": [
    "df_clean['composite_score'] = sum(df_clean[feature] * weight for feature, weight in feature_weights.items())"
   ]
  },
  {
   "cell_type": "code",
   "execution_count": null,
   "id": "ffa150b7",
   "metadata": {
    "vscode": {
     "languageId": "plaintext"
    }
   },
   "outputs": [],
   "source": [
    "top_cities_df = df_clean.sort_values(by='composite_score', ascending=False).head(8)\n",
    "top_cities_df_display = top_cities_df[['city', 'country', 'region', 'budget_level']]\n",
    "top_cities_df_display.reset_index(drop=True, inplace=True)\n",
    "\n",
    "fig = go.Figure(\n",
    "    data=[\n",
    "        go.Table(\n",
    "            header=dict(\n",
    "                values=[\"🏙️ City\", \"🌍 Country\", \"📌 Region\", \"💸 Budget Level\"],\n",
    "                fill_color=\"red\",\n",
    "                align=\"left\",\n",
    "                font=dict(color=\"white\", size=14),\n",
    "                height=35\n",
    "            ),\n",
    "            cells=dict(\n",
    "                values=[\n",
    "                    top_cities_df_display['city'],\n",
    "                    top_cities_df_display['country'],\n",
    "                    top_cities_df_display['region'],\n",
    "                    top_cities_df_display['budget_level'],\n",
    "                ],\n",
    "                fill_color=\"#1f77b4\",\n",
    "                align=\"left\",\n",
    "                font=dict(size=13),\n",
    "                height=30\n",
    "            )\n",
    "        )\n",
    "    ]\n",
    ")\n",
    "\n",
    "fig.update_layout(title=\"🏆 Top 8 Cities Based on PCA Composite Score\", title_font_size=20)\n",
    "fig.show(renderer='iframe')"
   ]
  }
 ],
 "metadata": {
  "kernelspec": {
   "display_name": "Python 3 (ipykernel)",
   "language": "python",
   "name": "python3"
  },
  "language_info": {
   "codemirror_mode": {
    "name": "ipython",
    "version": 3
   },
   "file_extension": ".py",
   "mimetype": "text/x-python",
   "name": "python",
   "nbconvert_exporter": "python",
   "pygments_lexer": "ipython3",
   "version": "3.12.9"
  }
 },
 "nbformat": 4,
 "nbformat_minor": 5
}
