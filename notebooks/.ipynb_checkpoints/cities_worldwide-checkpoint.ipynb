{
 "cells": [
  {
   "cell_type": "code",
   "execution_count": 1,
   "id": "03517beb",
   "metadata": {
    "execution": {
     "iopub.execute_input": "2025-06-24T08:33:09.183812Z",
     "iopub.status.busy": "2025-06-24T08:33:09.183280Z",
     "iopub.status.idle": "2025-06-24T08:33:10.716460Z",
     "shell.execute_reply": "2025-06-24T08:33:10.715721Z",
     "shell.execute_reply.started": "2025-06-24T08:33:09.183782Z"
    },
    "vscode": {
     "languageId": "plaintext"
    }
   },
   "outputs": [],
   "source": [
    "import plotly.express as px\n",
    "import json\n",
    "import pandas as pd\n",
    "import numpy as np\n",
    "from sklearn.preprocessing import MinMaxScaler\n",
    "from sklearn.decomposition import PCA\n",
    "import plotly.graph_objects as go\n",
    "from itertools import chain"
   ]
  },
  {
   "cell_type": "code",
   "execution_count": 2,
   "id": "720bfaab",
   "metadata": {
    "execution": {
     "iopub.execute_input": "2025-06-24T08:33:11.278044Z",
     "iopub.status.busy": "2025-06-24T08:33:11.277265Z",
     "iopub.status.idle": "2025-06-24T08:33:11.321481Z",
     "shell.execute_reply": "2025-06-24T08:33:11.320658Z",
     "shell.execute_reply.started": "2025-06-24T08:33:11.278016Z"
    },
    "vscode": {
     "languageId": "plaintext"
    }
   },
   "outputs": [],
   "source": [
    "import plotly.io as pio\n",
    "\n",
    "pio.templates[\"custom_dark_green\"] = go.layout.Template(\n",
    "    layout=dict(\n",
    "        paper_bgcolor='black',\n",
    "        plot_bgcolor='black',\n",
    "        font=dict(color='lightgreen'),\n",
    "        xaxis=dict(color='lightgreen', gridcolor='gray'),\n",
    "        yaxis=dict(color='lightgreen', gridcolor='gray')\n",
    "    )\n",
    ")\n",
    "\n",
    "pio.templates.default = \"custom_dark_green\""
   ]
  },
  {
   "cell_type": "code",
   "execution_count": 4,
   "id": "39ed0686",
   "metadata": {
    "execution": {
     "iopub.execute_input": "2025-06-24T08:33:40.672074Z",
     "iopub.status.busy": "2025-06-24T08:33:40.671770Z",
     "iopub.status.idle": "2025-06-24T08:33:40.693112Z",
     "shell.execute_reply": "2025-06-24T08:33:40.692223Z",
     "shell.execute_reply.started": "2025-06-24T08:33:40.672051Z"
    },
    "vscode": {
     "languageId": "plaintext"
    }
   },
   "outputs": [],
   "source": [
    "df = pd.read_csv('../datasets/Worldwide_Travel_Cities_Dataset.csv')"
   ]
  },
  {
   "cell_type": "code",
   "execution_count": 5,
   "id": "b3f74257",
   "metadata": {
    "execution": {
     "iopub.execute_input": "2025-06-24T08:33:43.234760Z",
     "iopub.status.busy": "2025-06-24T08:33:43.234191Z",
     "iopub.status.idle": "2025-06-24T08:33:43.258422Z",
     "shell.execute_reply": "2025-06-24T08:33:43.257375Z",
     "shell.execute_reply.started": "2025-06-24T08:33:43.234730Z"
    },
    "vscode": {
     "languageId": "plaintext"
    }
   },
   "outputs": [
    {
     "data": {
      "text/html": [
       "<div>\n",
       "<style scoped>\n",
       "    .dataframe tbody tr th:only-of-type {\n",
       "        vertical-align: middle;\n",
       "    }\n",
       "\n",
       "    .dataframe tbody tr th {\n",
       "        vertical-align: top;\n",
       "    }\n",
       "\n",
       "    .dataframe thead th {\n",
       "        text-align: right;\n",
       "    }\n",
       "</style>\n",
       "<table border=\"1\" class=\"dataframe\">\n",
       "  <thead>\n",
       "    <tr style=\"text-align: right;\">\n",
       "      <th></th>\n",
       "      <th>id</th>\n",
       "      <th>city</th>\n",
       "      <th>country</th>\n",
       "      <th>region</th>\n",
       "      <th>short_description</th>\n",
       "      <th>latitude</th>\n",
       "      <th>longitude</th>\n",
       "      <th>avg_temp_monthly</th>\n",
       "      <th>ideal_durations</th>\n",
       "      <th>budget_level</th>\n",
       "      <th>culture</th>\n",
       "      <th>adventure</th>\n",
       "      <th>nature</th>\n",
       "      <th>beaches</th>\n",
       "      <th>nightlife</th>\n",
       "      <th>cuisine</th>\n",
       "      <th>wellness</th>\n",
       "      <th>urban</th>\n",
       "      <th>seclusion</th>\n",
       "    </tr>\n",
       "  </thead>\n",
       "  <tbody>\n",
       "    <tr>\n",
       "      <th>0</th>\n",
       "      <td>c54acf38-3029-496b-8c7a-8343ad82785c</td>\n",
       "      <td>Milan</td>\n",
       "      <td>Italy</td>\n",
       "      <td>europe</td>\n",
       "      <td>Chic streets lined with fashion boutiques, his...</td>\n",
       "      <td>45.464194</td>\n",
       "      <td>9.189635</td>\n",
       "      <td>{\"1\":{\"avg\":3.7,\"max\":7.8,\"min\":0.4},\"2\":{\"avg...</td>\n",
       "      <td>[\"Short trip\",\"One week\"]</td>\n",
       "      <td>Luxury</td>\n",
       "      <td>5</td>\n",
       "      <td>2</td>\n",
       "      <td>2</td>\n",
       "      <td>1</td>\n",
       "      <td>4</td>\n",
       "      <td>5</td>\n",
       "      <td>3</td>\n",
       "      <td>5</td>\n",
       "      <td>2</td>\n",
       "    </tr>\n",
       "    <tr>\n",
       "      <th>1</th>\n",
       "      <td>0bd12654-ed64-424e-a044-7bc574bcf078</td>\n",
       "      <td>Yasawa Islands</td>\n",
       "      <td>Fiji</td>\n",
       "      <td>oceania</td>\n",
       "      <td>Crystal-clear waters, secluded beaches, and vi...</td>\n",
       "      <td>-17.290947</td>\n",
       "      <td>177.125786</td>\n",
       "      <td>{\"1\":{\"avg\":28,\"max\":30.8,\"min\":25.8},\"2\":{\"av...</td>\n",
       "      <td>[\"Long trip\",\"One week\"]</td>\n",
       "      <td>Luxury</td>\n",
       "      <td>2</td>\n",
       "      <td>4</td>\n",
       "      <td>5</td>\n",
       "      <td>5</td>\n",
       "      <td>2</td>\n",
       "      <td>3</td>\n",
       "      <td>4</td>\n",
       "      <td>1</td>\n",
       "      <td>5</td>\n",
       "    </tr>\n",
       "    <tr>\n",
       "      <th>2</th>\n",
       "      <td>73036cda-9134-46fc-a2c6-807782d59dfb</td>\n",
       "      <td>Whistler</td>\n",
       "      <td>Canada</td>\n",
       "      <td>north_america</td>\n",
       "      <td>Snow-capped peaks and lush forests create a se...</td>\n",
       "      <td>50.117190</td>\n",
       "      <td>-122.954302</td>\n",
       "      <td>{\"1\":{\"avg\":-2.5,\"max\":0.4,\"min\":-5.5},\"2\":{\"a...</td>\n",
       "      <td>[\"Short trip\",\"Weekend\",\"One week\"]</td>\n",
       "      <td>Luxury</td>\n",
       "      <td>3</td>\n",
       "      <td>5</td>\n",
       "      <td>5</td>\n",
       "      <td>2</td>\n",
       "      <td>3</td>\n",
       "      <td>3</td>\n",
       "      <td>4</td>\n",
       "      <td>2</td>\n",
       "      <td>4</td>\n",
       "    </tr>\n",
       "    <tr>\n",
       "      <th>3</th>\n",
       "      <td>3872c9c0-6b6e-49e1-9743-f46bfe591b86</td>\n",
       "      <td>Guanajuato</td>\n",
       "      <td>Mexico</td>\n",
       "      <td>north_america</td>\n",
       "      <td>Winding cobblestone streets and colorful facad...</td>\n",
       "      <td>20.987700</td>\n",
       "      <td>-101.000000</td>\n",
       "      <td>{\"1\":{\"avg\":15.5,\"max\":22.8,\"min\":8.7},\"2\":{\"a...</td>\n",
       "      <td>[\"Weekend\",\"One week\",\"Short trip\"]</td>\n",
       "      <td>Mid-range</td>\n",
       "      <td>5</td>\n",
       "      <td>3</td>\n",
       "      <td>3</td>\n",
       "      <td>1</td>\n",
       "      <td>3</td>\n",
       "      <td>4</td>\n",
       "      <td>3</td>\n",
       "      <td>4</td>\n",
       "      <td>2</td>\n",
       "    </tr>\n",
       "    <tr>\n",
       "      <th>4</th>\n",
       "      <td>e1ebc1b6-8798-422d-847a-22016faff3fd</td>\n",
       "      <td>Surabaya</td>\n",
       "      <td>Indonesia</td>\n",
       "      <td>asia</td>\n",
       "      <td>Bustling streets filled with the aroma of loca...</td>\n",
       "      <td>-7.245972</td>\n",
       "      <td>112.737827</td>\n",
       "      <td>{\"1\":{\"avg\":28.1,\"max\":32.5,\"min\":25.5},\"2\":{\"...</td>\n",
       "      <td>[\"Short trip\",\"Weekend\"]</td>\n",
       "      <td>Budget</td>\n",
       "      <td>4</td>\n",
       "      <td>3</td>\n",
       "      <td>3</td>\n",
       "      <td>2</td>\n",
       "      <td>3</td>\n",
       "      <td>4</td>\n",
       "      <td>3</td>\n",
       "      <td>4</td>\n",
       "      <td>2</td>\n",
       "    </tr>\n",
       "  </tbody>\n",
       "</table>\n",
       "</div>"
      ],
      "text/plain": [
       "                                     id            city    country  \\\n",
       "0  c54acf38-3029-496b-8c7a-8343ad82785c           Milan      Italy   \n",
       "1  0bd12654-ed64-424e-a044-7bc574bcf078  Yasawa Islands       Fiji   \n",
       "2  73036cda-9134-46fc-a2c6-807782d59dfb        Whistler     Canada   \n",
       "3  3872c9c0-6b6e-49e1-9743-f46bfe591b86      Guanajuato     Mexico   \n",
       "4  e1ebc1b6-8798-422d-847a-22016faff3fd        Surabaya  Indonesia   \n",
       "\n",
       "          region                                  short_description  \\\n",
       "0         europe  Chic streets lined with fashion boutiques, his...   \n",
       "1        oceania  Crystal-clear waters, secluded beaches, and vi...   \n",
       "2  north_america  Snow-capped peaks and lush forests create a se...   \n",
       "3  north_america  Winding cobblestone streets and colorful facad...   \n",
       "4           asia  Bustling streets filled with the aroma of loca...   \n",
       "\n",
       "    latitude   longitude                                   avg_temp_monthly  \\\n",
       "0  45.464194    9.189635  {\"1\":{\"avg\":3.7,\"max\":7.8,\"min\":0.4},\"2\":{\"avg...   \n",
       "1 -17.290947  177.125786  {\"1\":{\"avg\":28,\"max\":30.8,\"min\":25.8},\"2\":{\"av...   \n",
       "2  50.117190 -122.954302  {\"1\":{\"avg\":-2.5,\"max\":0.4,\"min\":-5.5},\"2\":{\"a...   \n",
       "3  20.987700 -101.000000  {\"1\":{\"avg\":15.5,\"max\":22.8,\"min\":8.7},\"2\":{\"a...   \n",
       "4  -7.245972  112.737827  {\"1\":{\"avg\":28.1,\"max\":32.5,\"min\":25.5},\"2\":{\"...   \n",
       "\n",
       "                       ideal_durations budget_level  culture  adventure  \\\n",
       "0            [\"Short trip\",\"One week\"]       Luxury        5          2   \n",
       "1             [\"Long trip\",\"One week\"]       Luxury        2          4   \n",
       "2  [\"Short trip\",\"Weekend\",\"One week\"]       Luxury        3          5   \n",
       "3  [\"Weekend\",\"One week\",\"Short trip\"]    Mid-range        5          3   \n",
       "4             [\"Short trip\",\"Weekend\"]       Budget        4          3   \n",
       "\n",
       "   nature  beaches  nightlife  cuisine  wellness  urban  seclusion  \n",
       "0       2        1          4        5         3      5          2  \n",
       "1       5        5          2        3         4      1          5  \n",
       "2       5        2          3        3         4      2          4  \n",
       "3       3        1          3        4         3      4          2  \n",
       "4       3        2          3        4         3      4          2  "
      ]
     },
     "execution_count": 5,
     "metadata": {},
     "output_type": "execute_result"
    }
   ],
   "source": [
    "df.head()"
   ]
  },
  {
   "cell_type": "code",
   "execution_count": 6,
   "id": "7ea69130",
   "metadata": {
    "execution": {
     "iopub.execute_input": "2025-06-24T08:35:48.744839Z",
     "iopub.status.busy": "2025-06-24T08:35:48.744130Z",
     "iopub.status.idle": "2025-06-24T08:35:48.750055Z",
     "shell.execute_reply": "2025-06-24T08:35:48.749461Z",
     "shell.execute_reply.started": "2025-06-24T08:35:48.744809Z"
    },
    "vscode": {
     "languageId": "plaintext"
    }
   },
   "outputs": [],
   "source": [
    "theme_cols = ['culture','adventure','nature','beaches','nightlife','cuisine','wellness','urban','seclusion']\n",
    "budget_map = {'Budget': 3, 'Mid-range': 2, 'Luxury': 1}\n",
    "\n",
    "def climate_comfort(json_str):\n",
    "    try:\n",
    "        temps = json.loads(json_str)\n",
    "        avg_temps = [temps[str(m)]['avg'] for m in range(1, 13)]\n",
    "        return -np.mean([abs(t - 23) for t in avg_temps])  # closer to 23°C is better\n",
    "    except:\n",
    "        return np.nan"
   ]
  },
  {
   "cell_type": "code",
   "execution_count": 8,
   "id": "283a3939",
   "metadata": {
    "execution": {
     "iopub.execute_input": "2025-06-24T08:38:51.685884Z",
     "iopub.status.busy": "2025-06-24T08:38:51.685042Z",
     "iopub.status.idle": "2025-06-24T08:38:51.706494Z",
     "shell.execute_reply": "2025-06-24T08:38:51.705827Z",
     "shell.execute_reply.started": "2025-06-24T08:38:51.685856Z"
    },
    "vscode": {
     "languageId": "plaintext"
    }
   },
   "outputs": [],
   "source": [
    "df['theme_score'] = df[theme_cols].mean(axis=1)\n",
    "df['budget_score'] = df['budget_level'].map(budget_map)\n",
    "df['duration_score'] = df['ideal_durations'].apply(len)\n",
    "df['climate_score'] = df['avg_temp_monthly'].apply(climate_comfort)"
   ]
  },
  {
   "cell_type": "code",
   "execution_count": 10,
   "id": "dfbbcccc",
   "metadata": {
    "execution": {
     "iopub.execute_input": "2025-06-24T08:40:00.790300Z",
     "iopub.status.busy": "2025-06-24T08:40:00.789677Z",
     "iopub.status.idle": "2025-06-24T08:40:00.796045Z",
     "shell.execute_reply": "2025-06-24T08:40:00.795351Z",
     "shell.execute_reply.started": "2025-06-24T08:40:00.790274Z"
    },
    "vscode": {
     "languageId": "plaintext"
    }
   },
   "outputs": [],
   "source": [
    "score_cols = ['theme_score', 'budget_score', 'duration_score', 'climate_score']\n",
    "df_clean = df.dropna(subset=score_cols).copy()"
   ]
  },
  {
   "cell_type": "code",
   "execution_count": 11,
   "id": "87f34a50-e9bf-4b35-afc6-721e266c05ee",
   "metadata": {
    "execution": {
     "iopub.execute_input": "2025-06-24T08:40:03.469770Z",
     "iopub.status.busy": "2025-06-24T08:40:03.468895Z",
     "iopub.status.idle": "2025-06-24T08:40:03.481262Z",
     "shell.execute_reply": "2025-06-24T08:40:03.480355Z",
     "shell.execute_reply.started": "2025-06-24T08:40:03.469742Z"
    }
   },
   "outputs": [
    {
     "name": "stdout",
     "output_type": "stream",
     "text": [
      "                                       id            city         country  \\\n",
      "0    c54acf38-3029-496b-8c7a-8343ad82785c           Milan           Italy   \n",
      "1    0bd12654-ed64-424e-a044-7bc574bcf078  Yasawa Islands            Fiji   \n",
      "2    73036cda-9134-46fc-a2c6-807782d59dfb        Whistler          Canada   \n",
      "3    3872c9c0-6b6e-49e1-9743-f46bfe591b86      Guanajuato          Mexico   \n",
      "4    e1ebc1b6-8798-422d-847a-22016faff3fd        Surabaya       Indonesia   \n",
      "..                                    ...             ...             ...   \n",
      "555  778d28df-a4fa-4328-896e-4a9f80216fda            Maun        Botswana   \n",
      "556  44fb18eb-2641-46ab-b3fa-df6870ba3c74      Gothenburg          Sweden   \n",
      "557  8c8c7203-2a45-44ba-9fb2-b5158104375e      Manchester  United Kingdom   \n",
      "558  ba72b976-10f9-4415-a818-32cf17d8e649      Copenhagen         Denmark   \n",
      "559  62caf451-c399-4d64-a770-1efd93a603ef           Sucre         Bolivia   \n",
      "\n",
      "            region                                  short_description  \\\n",
      "0           europe  Chic streets lined with fashion boutiques, his...   \n",
      "1          oceania  Crystal-clear waters, secluded beaches, and vi...   \n",
      "2    north_america  Snow-capped peaks and lush forests create a se...   \n",
      "3    north_america  Winding cobblestone streets and colorful facad...   \n",
      "4             asia  Bustling streets filled with the aroma of loca...   \n",
      "..             ...                                                ...   \n",
      "555         africa  A gateway to the Okavango Delta, offering a se...   \n",
      "556         europe  A charming city with picturesque canals, lush ...   \n",
      "557         europe  Industrial heritage meets modern creativity, w...   \n",
      "558         europe  Charming canals, vibrant neighborhoods, and a ...   \n",
      "559  south_america  Whitewashed colonial buildings, vibrant plazas...   \n",
      "\n",
      "      latitude   longitude                                   avg_temp_monthly  \\\n",
      "0    45.464194    9.189635  {\"1\":{\"avg\":3.7,\"max\":7.8,\"min\":0.4},\"2\":{\"avg...   \n",
      "1   -17.290947  177.125786  {\"1\":{\"avg\":28,\"max\":30.8,\"min\":25.8},\"2\":{\"av...   \n",
      "2    50.117190 -122.954302  {\"1\":{\"avg\":-2.5,\"max\":0.4,\"min\":-5.5},\"2\":{\"a...   \n",
      "3    20.987700 -101.000000  {\"1\":{\"avg\":15.5,\"max\":22.8,\"min\":8.7},\"2\":{\"a...   \n",
      "4    -7.245972  112.737827  {\"1\":{\"avg\":28.1,\"max\":32.5,\"min\":25.5},\"2\":{\"...   \n",
      "..         ...         ...                                                ...   \n",
      "555 -19.986095   23.422435  {\"1\":{\"avg\":26.6,\"max\":32,\"min\":21.2},\"2\":{\"av...   \n",
      "556  57.707233   11.967017  {\"1\":{\"avg\":1.4,\"max\":3.2,\"min\":-1.2},\"2\":{\"av...   \n",
      "557  53.479489   -2.245115  {\"1\":{\"avg\":4.7,\"max\":7.1,\"min\":2},\"2\":{\"avg\":...   \n",
      "558  55.686724   12.570072  {\"1\":{\"avg\":2.6,\"max\":4.2,\"min\":0.6},\"2\":{\"avg...   \n",
      "559 -19.047725  -65.259431  {\"1\":{\"avg\":15.4,\"max\":19.8,\"min\":10.2},\"2\":{\"...   \n",
      "\n",
      "                         ideal_durations budget_level  ...  beaches  \\\n",
      "0              [\"Short trip\",\"One week\"]       Luxury  ...        1   \n",
      "1               [\"Long trip\",\"One week\"]       Luxury  ...        5   \n",
      "2    [\"Short trip\",\"Weekend\",\"One week\"]       Luxury  ...        2   \n",
      "3    [\"Weekend\",\"One week\",\"Short trip\"]    Mid-range  ...        1   \n",
      "4               [\"Short trip\",\"Weekend\"]       Budget  ...        2   \n",
      "..                                   ...          ...  ...      ...   \n",
      "555            [\"One week\",\"Short trip\"]    Mid-range  ...        1   \n",
      "556  [\"Weekend\",\"One week\",\"Short trip\"]    Mid-range  ...        3   \n",
      "557  [\"Weekend\",\"One week\",\"Short trip\"]    Mid-range  ...        1   \n",
      "558  [\"One week\",\"Short trip\",\"Weekend\"]    Mid-range  ...        2   \n",
      "559  [\"Short trip\",\"Weekend\",\"One week\"]       Budget  ...        1   \n",
      "\n",
      "     nightlife  cuisine  wellness  urban  seclusion  theme_score  \\\n",
      "0            4        5         3      5          2     3.222222   \n",
      "1            2        3         4      1          5     3.444444   \n",
      "2            3        3         4      2          4     3.444444   \n",
      "3            3        4         3      4          2     3.111111   \n",
      "4            3        4         3      4          2     3.111111   \n",
      "..         ...      ...       ...    ...        ...          ...   \n",
      "555          2        3         3      2          4     3.111111   \n",
      "556          3        4         3      4          3     3.444444   \n",
      "557          4        4         3      4          2     2.888889   \n",
      "558          4        4         3      5          2     3.333333   \n",
      "559          2        3         2      2          4     2.666667   \n",
      "\n",
      "     budget_score  duration_score  climate_score  \n",
      "0               1              25      -9.166667  \n",
      "1               1              24      -3.975000  \n",
      "2               1              35     -16.191667  \n",
      "3               2              35      -3.533333  \n",
      "4               3              24      -5.758333  \n",
      "..            ...             ...            ...  \n",
      "555             2              25      -3.591667  \n",
      "556             2              35     -13.825000  \n",
      "557             2              35     -12.566667  \n",
      "558             2              35     -12.775000  \n",
      "559             3              35      -7.433333  \n",
      "\n",
      "[560 rows x 23 columns]\n"
     ]
    }
   ],
   "source": [
    "print(df_clean)"
   ]
  },
  {
   "cell_type": "code",
   "execution_count": 12,
   "id": "46a94e45",
   "metadata": {
    "execution": {
     "iopub.execute_input": "2025-06-24T08:42:23.830231Z",
     "iopub.status.busy": "2025-06-24T08:42:23.829654Z",
     "iopub.status.idle": "2025-06-24T08:42:23.837085Z",
     "shell.execute_reply": "2025-06-24T08:42:23.836466Z",
     "shell.execute_reply.started": "2025-06-24T08:42:23.830206Z"
    },
    "vscode": {
     "languageId": "plaintext"
    }
   },
   "outputs": [],
   "source": [
    "scaler = MinMaxScaler()\n",
    "X_scaled = scaler.fit_transform(df_clean[score_cols])"
   ]
  },
  {
   "cell_type": "code",
   "execution_count": 13,
   "id": "b93e6c7c",
   "metadata": {
    "execution": {
     "iopub.execute_input": "2025-06-24T08:42:26.004528Z",
     "iopub.status.busy": "2025-06-24T08:42:26.004009Z",
     "iopub.status.idle": "2025-06-24T08:42:26.008231Z",
     "shell.execute_reply": "2025-06-24T08:42:26.007468Z",
     "shell.execute_reply.started": "2025-06-24T08:42:26.004498Z"
    },
    "vscode": {
     "languageId": "plaintext"
    }
   },
   "outputs": [
    {
     "name": "stdout",
     "output_type": "stream",
     "text": [
      "[[0.55555556 0.         0.2        0.67355243]\n",
      " [0.66666667 0.         0.13333333 0.8685446 ]\n",
      " [0.66666667 0.         0.86666667 0.40970266]\n",
      " ...\n",
      " [0.38888889 0.5        0.86666667 0.5458529 ]\n",
      " [0.61111111 0.5        0.86666667 0.53802817]\n",
      " [0.27777778 1.         0.86666667 0.73865415]]\n"
     ]
    }
   ],
   "source": [
    "print(X_scaled)"
   ]
  },
  {
   "cell_type": "code",
   "execution_count": 14,
   "id": "27826ff5",
   "metadata": {
    "execution": {
     "iopub.execute_input": "2025-06-24T08:42:45.931551Z",
     "iopub.status.busy": "2025-06-24T08:42:45.930891Z",
     "iopub.status.idle": "2025-06-24T08:42:46.259062Z",
     "shell.execute_reply": "2025-06-24T08:42:46.258494Z",
     "shell.execute_reply.started": "2025-06-24T08:42:45.931523Z"
    },
    "vscode": {
     "languageId": "plaintext"
    }
   },
   "outputs": [
    {
     "data": {
      "text/html": [
       "<iframe\n",
       "    scrolling=\"no\"\n",
       "    width=\"100%\"\n",
       "    height=\"420\"\n",
       "    src=\"iframe_figures/figure_14.html\"\n",
       "    frameborder=\"0\"\n",
       "    allowfullscreen\n",
       "></iframe>\n"
      ]
     },
     "metadata": {},
     "output_type": "display_data"
    }
   ],
   "source": [
    "import plotly.graph_objects as go\n",
    "from sklearn.decomposition import PCA\n",
    "from sklearn.preprocessing import StandardScaler\n",
    "\n",
    "# --- PCA Setup (Assuming you already have df and score_cols) ---\n",
    "scaler = StandardScaler()\n",
    "X_scaled = scaler.fit_transform(df[score_cols])\n",
    "\n",
    "pca = PCA(n_components=1)\n",
    "pca.fit(X_scaled)\n",
    "\n",
    "weights = pca.components_[0]\n",
    "feature_weights = dict(zip(score_cols, weights))\n",
    "\n",
    "# --- Plotly Table ---\n",
    "feature_names = list(feature_weights.keys())\n",
    "weight_values = [round(w, 4) for w in feature_weights.values()]\n",
    "\n",
    "fig = go.Figure(data=[go.Table(\n",
    "    header=dict(values=[\"🧮 Feature\", \"📊 PCA Weight\"],\n",
    "                fill_color='darkslategray',\n",
    "                font=dict(color='white', size=13),\n",
    "                align='left'),\n",
    "    cells=dict(values=[feature_names, weight_values],\n",
    "               fill_color='#1f77b4',\n",
    "               align='left',\n",
    "               font=dict(size=12))\n",
    ")])\n",
    "\n",
    "fig.update_layout(title='📊 PCA-Derived Feature Weights', height=400)\n",
    "fig.show(renderer='iframe')"
   ]
  },
  {
   "cell_type": "code",
   "execution_count": 15,
   "id": "690f01c3",
   "metadata": {
    "execution": {
     "iopub.execute_input": "2025-06-24T08:43:05.567866Z",
     "iopub.status.busy": "2025-06-24T08:43:05.567511Z",
     "iopub.status.idle": "2025-06-24T08:43:05.573961Z",
     "shell.execute_reply": "2025-06-24T08:43:05.573086Z",
     "shell.execute_reply.started": "2025-06-24T08:43:05.567840Z"
    },
    "vscode": {
     "languageId": "plaintext"
    }
   },
   "outputs": [],
   "source": [
    "df_clean['composite_score'] = sum(df_clean[feature] * weight for feature, weight in feature_weights.items())"
   ]
  },
  {
   "cell_type": "code",
   "execution_count": 16,
   "id": "ffa150b7",
   "metadata": {
    "execution": {
     "iopub.execute_input": "2025-06-24T08:43:13.091372Z",
     "iopub.status.busy": "2025-06-24T08:43:13.090729Z",
     "iopub.status.idle": "2025-06-24T08:43:13.165151Z",
     "shell.execute_reply": "2025-06-24T08:43:13.164406Z",
     "shell.execute_reply.started": "2025-06-24T08:43:13.091345Z"
    },
    "vscode": {
     "languageId": "plaintext"
    }
   },
   "outputs": [
    {
     "data": {
      "text/html": [
       "<iframe\n",
       "    scrolling=\"no\"\n",
       "    width=\"100%\"\n",
       "    height=\"545px\"\n",
       "    src=\"iframe_figures/figure_16.html\"\n",
       "    frameborder=\"0\"\n",
       "    allowfullscreen\n",
       "></iframe>\n"
      ]
     },
     "metadata": {},
     "output_type": "display_data"
    }
   ],
   "source": [
    "top_cities_df = df_clean.sort_values(by='composite_score', ascending=False).head(8)\n",
    "top_cities_df_display = top_cities_df[['city', 'country', 'region', 'budget_level']]\n",
    "top_cities_df_display.reset_index(drop=True, inplace=True)\n",
    "\n",
    "fig = go.Figure(\n",
    "    data=[\n",
    "        go.Table(\n",
    "            header=dict(\n",
    "                values=[\"🏙️ City\", \"🌍 Country\", \"📌 Region\", \"💸 Budget Level\"],\n",
    "                fill_color=\"red\",\n",
    "                align=\"left\",\n",
    "                font=dict(color=\"white\", size=14),\n",
    "                height=35\n",
    "            ),\n",
    "            cells=dict(\n",
    "                values=[\n",
    "                    top_cities_df_display['city'],\n",
    "                    top_cities_df_display['country'],\n",
    "                    top_cities_df_display['region'],\n",
    "                    top_cities_df_display['budget_level'],\n",
    "                ],\n",
    "                fill_color=\"#1f77b4\",\n",
    "                align=\"left\",\n",
    "                font=dict(size=13),\n",
    "                height=30\n",
    "            )\n",
    "        )\n",
    "    ]\n",
    ")\n",
    "\n",
    "fig.update_layout(title=\"🏆 Top 8 Cities Based on PCA Composite Score\", title_font_size=20)\n",
    "fig.show(renderer='iframe')"
   ]
  },
  {
   "cell_type": "code",
   "execution_count": null,
   "id": "4ad68913-df14-4979-a75d-f7350dbba091",
   "metadata": {},
   "outputs": [],
   "source": []
  }
 ],
 "metadata": {
  "kernelspec": {
   "display_name": "Python 3 (ipykernel)",
   "language": "python",
   "name": "python3"
  },
  "language_info": {
   "codemirror_mode": {
    "name": "ipython",
    "version": 3
   },
   "file_extension": ".py",
   "mimetype": "text/x-python",
   "name": "python",
   "nbconvert_exporter": "python",
   "pygments_lexer": "ipython3",
   "version": "3.12.9"
  }
 },
 "nbformat": 4,
 "nbformat_minor": 5
}
